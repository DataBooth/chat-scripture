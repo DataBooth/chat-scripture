{
 "cells": [
  {
   "attachments": {},
   "cell_type": "markdown",
   "metadata": {},
   "source": [
    "## Get all scripture\n",
    "\n",
    "Get and cache all scripture for a particular version"
   ]
  },
  {
   "cell_type": "code",
   "execution_count": 1,
   "metadata": {},
   "outputs": [],
   "source": [
    "import os\n",
    "import sys\n",
    "\n",
    "module_path = os.path.abspath(os.path.join(\"..\"))\n",
    "if module_path not in sys.path:\n",
    "    sys.path.append(module_path)"
   ]
  },
  {
   "cell_type": "code",
   "execution_count": 2,
   "metadata": {},
   "outputs": [],
   "source": [
    "from pathlib import Path\n",
    "from joblib import Memory\n",
    "from pprint import pprint"
   ]
  },
  {
   "cell_type": "code",
   "execution_count": 5,
   "metadata": {},
   "outputs": [],
   "source": [
    "from src.bible import get_text_for_book, BIBLE_NT_BOOKS, BIBLE_OT_BOOKS"
   ]
  },
  {
   "cell_type": "code",
   "execution_count": 4,
   "metadata": {},
   "outputs": [],
   "source": [
    "SAVE_DIR = Path.cwd().parent / \"data\" / \"text\"\n",
    "SAVE_DIR.mkdir(parents=True, exist_ok=True)"
   ]
  },
  {
   "cell_type": "code",
   "execution_count": 6,
   "metadata": {},
   "outputs": [],
   "source": [
    "CACHE_DIR = Path.cwd().parent / \"data\" / \"cache\"\n",
    "CACHE_DIR.mkdir(parents=True, exist_ok=True)\n",
    "\n",
    "memory = Memory(CACHE_DIR, verbose=0)"
   ]
  },
  {
   "cell_type": "code",
   "execution_count": 7,
   "metadata": {},
   "outputs": [],
   "source": [
    "# Wrapper to persist data to (cache directory on) disk\n",
    "\n",
    "@memory.cache\n",
    "def get_save_text_for_book(book_name, bible_version=None, save=True):\n",
    "    if bible_version is None:\n",
    "        bible_version = \"NIV\"\n",
    "    book_text = get_text_for_book(book_name, bible_version)\n",
    "    if save:\n",
    "        book_name_nospaces = book_name.replace(\" \", \"_\")\n",
    "        with open(SAVE_DIR / f\"{book_name_nospaces}-{bible_version}.txt\", \"w\") as f:\n",
    "            f.write(book_text)\n",
    "            print(f\"Saved {book_name} ({bible_version}) to {SAVE_DIR / f'{book_name_nospaces}-{bible_version}.txt'}\")\n",
    "    else:\n",
    "        print(f\"Did not save {book_name}\")\n"
   ]
  },
  {
   "cell_type": "code",
   "execution_count": 10,
   "metadata": {},
   "outputs": [],
   "source": [
    "get_save_text_for_book(\"1 John\", bible_version=\"ESV\", save=True)"
   ]
  },
  {
   "cell_type": "code",
   "execution_count": 9,
   "metadata": {},
   "outputs": [
    {
     "name": "stdout",
     "output_type": "stream",
     "text": [
      "Saved 1 John (NIV) to /Users/mjboothaus/code/github/mjboothaus/chat-scripture/data/text/1_John-NIV.txt\n"
     ]
    }
   ],
   "source": [
    "get_save_text_for_book(\"1 John\")"
   ]
  },
  {
   "cell_type": "code",
   "execution_count": 11,
   "metadata": {},
   "outputs": [],
   "source": [
    "bible_version = \"ESV\"\n",
    "\n",
    "for book_name in BIBLE_NT_BOOKS + BIBLE_OT_BOOKS:\n",
    "    get_save_text_for_book(book_name, bible_version=bible_version, save=True)\n",
    "    "
   ]
  },
  {
   "cell_type": "code",
   "execution_count": null,
   "metadata": {},
   "outputs": [],
   "source": []
  }
 ],
 "metadata": {
  "kernelspec": {
   "display_name": ".venv",
   "language": "python",
   "name": "python3"
  },
  "language_info": {
   "codemirror_mode": {
    "name": "ipython",
    "version": 3
   },
   "file_extension": ".py",
   "mimetype": "text/x-python",
   "name": "python",
   "nbconvert_exporter": "python",
   "pygments_lexer": "ipython3",
   "version": "3.10.12"
  },
  "orig_nbformat": 4
 },
 "nbformat": 4,
 "nbformat_minor": 2
}
